{
 "cells": [
  {
   "cell_type": "code",
   "execution_count": 1,
   "metadata": {},
   "outputs": [],
   "source": [
    "import os, sys\n",
    "from collections import defaultdict\n",
    "from tqdm import tqdm\n",
    "import time"
   ]
  },
  {
   "cell_type": "code",
   "execution_count": 2,
   "metadata": {},
   "outputs": [],
   "source": [
    "import gymnasium as gym\n",
    "from text_flappy_bird_gym import *\n",
    "# from flappy_bird_gymnasium import *\n",
    "\n",
    "import numpy as np\n",
    "import matplotlib.pyplot as plt"
   ]
  },
  {
   "cell_type": "code",
   "execution_count": 3,
   "metadata": {},
   "outputs": [
    {
     "data": {
      "text/plain": [
       "((13, 5), {'score': 0, 'player': [6, 7], 'distance': 13.92838827718412})"
      ]
     },
     "execution_count": 3,
     "metadata": {},
     "output_type": "execute_result"
    }
   ],
   "source": [
    "# env = gym.make('TextFlappyBird-screen-v0', height=15, width=20, pipe_gap=4, seed=0)\n",
    "env = gym.make('TextFlappyBird-v0', height=15, width=20, pipe_gap=3, seed=0)\n",
    "\n",
    "env.reset()"
   ]
  },
  {
   "cell_type": "code",
   "execution_count": 4,
   "metadata": {},
   "outputs": [],
   "source": [
    "class QLearningAgent():\n",
    "    def __init__(self, hyper):\n",
    "        self.N_ACTIONS = hyper['N_ACTIONS']\n",
    "        self.epsilon = hyper['epsilon']\n",
    "        self.eps_decay = hyper['eps_decay']\n",
    "        self.lr = hyper['lr']\n",
    "        self.discount = hyper['discount']\n",
    "        self.seed = hyper['seed']\n",
    "        self.rand_generator = np.random.RandomState(hyper['seed'])\n",
    "        self.Q = defaultdict(lambda: 0)\n",
    "        \n",
    "        self.pre_state = 0\n",
    "        self.pre_action = 0\n",
    "    \n",
    "    def argmax(self, q_values):\n",
    "        top = float('-inf')\n",
    "        ties = []\n",
    "        for i in range(len(q_values)):\n",
    "            if q_values[i] > top:\n",
    "                top = q_values[i]\n",
    "                ties = [i]\n",
    "            if q_values[i] == top:\n",
    "                ties.append(i)\n",
    "        return self.rand_generator.choice(ties)\n",
    "\n",
    "    def agent_start(self, state):\n",
    "        current_q = [self.Q[state, 0], self.Q[state, 1]]\n",
    "        if self.rand_generator.rand() < self.epsilon:\n",
    "            action = self.rand_generator.randint(self.N_ACTIONS)\n",
    "        else:\n",
    "            action = self.argmax(current_q)\n",
    "        \n",
    "        self.pre_state = state\n",
    "        self.pre_action = action\n",
    "        return action\n",
    "\n",
    "    def agent_step(self, reward, state, episode, num_episodes):\n",
    "        current_q = [self.Q[state, 0], self.Q[state, 1]]\n",
    "        \n",
    "        if self.rand_generator.rand() < self.epsilon:\n",
    "            action = self.rand_generator.randint(self.N_ACTIONS)\n",
    "        else:\n",
    "            action = self.argmax(current_q)\n",
    "        \n",
    "        self.Q[self.pre_state, self.pre_action] += self.lr*(reward + self.discount*max(current_q) - self.Q[self.pre_state, self.pre_action])\n",
    "            \n",
    "        self.pre_state = state\n",
    "        self.pre_action = action\n",
    "        return action\n",
    "\n",
    "    def agent_end(self, reward):\n",
    "        self.Q[self.pre_state, self.pre_action] += self.lr * (reward - self.Q[self.pre_state, self.pre_action])\n",
    "        \n",
    "\n",
    "    def train(self, env, num_episodes):\n",
    "        # self.num_episodes = num_episodes\n",
    "        scores = []\n",
    "        for episode in tqdm(range(num_episodes)):\n",
    "            state, _ = env.reset()\n",
    "            if episode == 0:\n",
    "                action = self.agent_start(state)\n",
    "            else:\n",
    "                while True:\n",
    "                    next_state, reward, done, _, info = env.step(action)\n",
    "                    next_action = self.agent_step(reward, next_state, episode, num_episodes)\n",
    "                    # if done:\n",
    "                    #     self.agent_end(reward)\n",
    "                    #     break\n",
    "                    if (info['score'] >1e2) or done:\n",
    "                        self.agent_end(reward)\n",
    "                        break\n",
    "                    state = next_state\n",
    "                    action = next_action\n",
    "                scores.append(info['score'])\n",
    "            self.epsilon = max(self.epsilon * self.eps_decay, 0.005)\n",
    "            if episode % 1000 == 0: print(self.epsilon)\n",
    "        return np.array(scores)\n",
    "\n",
    "    def test(self, env, n_episodes):\n",
    "        scores=[]\n",
    "        for i in tqdm(range(n_episodes)):\n",
    "            state,_ = env.reset()\n",
    "            done = False\n",
    "            while not done:\n",
    "                action = np.argmax([self.Q[state,0], self.Q[state,1]])\n",
    "                next_state, reward,done,_, info = env.step(action)\n",
    "                state = next_state\n",
    "                if info['score'] >1e2: #Stopping condition to avoid it to be stuck if it never dies\n",
    "                    break\n",
    "            scores.append(info['score'])\n",
    "        return np.array(scores), np.mean(np.array(scores))\n",
    "\n",
    "    def run(self, env):\n",
    "        state,_ = env.reset()\n",
    "        done = False\n",
    "        episode_reward = 0\n",
    "        while not done:\n",
    "            action = np.argmax([self.Q[state,0], self.Q[state,1]])\n",
    "            next_state, reward,done,_, info = env.step(action)\n",
    "            episode_reward += reward\n",
    "            state = next_state\n",
    "            if info['score'] >1e2: #Stopping condition to avoid it to be stuck if it never dies\n",
    "                break\n",
    "            os.system(\"clear\")\n",
    "            sys.stdout.write(env.render())\n",
    "            time.sleep(0.1) # FPS\n",
    "        return info['score']"
   ]
  },
  {
   "cell_type": "code",
   "execution_count": 5,
   "metadata": {},
   "outputs": [
    {
     "data": {
      "text/plain": [
       "((13, 4), {'score': 0, 'player': [6, 7], 'distance': 13.601470508735444})"
      ]
     },
     "execution_count": 5,
     "metadata": {},
     "output_type": "execute_result"
    }
   ],
   "source": [
    "env = gym.make('TextFlappyBird-v0', height=15, width=20, pipe_gap=2, seed=None)\n",
    "env.reset()"
   ]
  },
  {
   "cell_type": "code",
   "execution_count": 6,
   "metadata": {},
   "outputs": [
    {
     "ename": "KeyError",
     "evalue": "'seed'",
     "output_type": "error",
     "traceback": [
      "\u001b[0;31m---------------------------------------------------------------------------\u001b[0m",
      "\u001b[0;31mKeyError\u001b[0m                                  Traceback (most recent call last)",
      "Cell \u001b[0;32mIn[6], line 14\u001b[0m\n\u001b[1;32m     11\u001b[0m labels_discount \u001b[38;5;241m=\u001b[39m [\u001b[38;5;124m\"\u001b[39m\u001b[38;5;124mdiscount = 1.0\u001b[39m\u001b[38;5;124m\"\u001b[39m, \u001b[38;5;124m\"\u001b[39m\u001b[38;5;124mdiscount = 0.95\u001b[39m\u001b[38;5;124m\"\u001b[39m,\u001b[38;5;124m\"\u001b[39m\u001b[38;5;124mdiscount = 0.9\u001b[39m\u001b[38;5;124m\"\u001b[39m, \u001b[38;5;124m\"\u001b[39m\u001b[38;5;124mdiscount = 0.85\u001b[39m\u001b[38;5;124m\"\u001b[39m,\u001b[38;5;124m\"\u001b[39m\u001b[38;5;124mdiscount = 0.8\u001b[39m\u001b[38;5;124m\"\u001b[39m, \u001b[38;5;124m\"\u001b[39m\u001b[38;5;124mdiscount = 0.75\u001b[39m\u001b[38;5;124m\"\u001b[39m, \u001b[38;5;124m\"\u001b[39m\u001b[38;5;124mdiscount = 0.7\u001b[39m\u001b[38;5;124m\"\u001b[39m]\n\u001b[1;32m     13\u001b[0m env \u001b[38;5;241m=\u001b[39m gym\u001b[38;5;241m.\u001b[39mmake(\u001b[38;5;124m'\u001b[39m\u001b[38;5;124mTextFlappyBird-v0\u001b[39m\u001b[38;5;124m'\u001b[39m, height\u001b[38;5;241m=\u001b[39m\u001b[38;5;241m15\u001b[39m, width\u001b[38;5;241m=\u001b[39m\u001b[38;5;241m20\u001b[39m, pipe_gap\u001b[38;5;241m=\u001b[39m\u001b[38;5;241m2\u001b[39m, seed\u001b[38;5;241m=\u001b[39m\u001b[38;5;28;01mNone\u001b[39;00m)\n\u001b[0;32m---> 14\u001b[0m game \u001b[38;5;241m=\u001b[39m QLearningAgent(hyper)\n\u001b[1;32m     15\u001b[0m n_episodes \u001b[38;5;241m=\u001b[39m \u001b[38;5;241m10000\u001b[39m\n\u001b[1;32m     17\u001b[0m train_scores \u001b[38;5;241m=\u001b[39m []\n",
      "Cell \u001b[0;32mIn[4], line 8\u001b[0m, in \u001b[0;36mQLearningAgent.__init__\u001b[0;34m(self, hyper)\u001b[0m\n\u001b[1;32m      6\u001b[0m \u001b[38;5;28mself\u001b[39m\u001b[38;5;241m.\u001b[39mlr \u001b[38;5;241m=\u001b[39m hyper[\u001b[38;5;124m'\u001b[39m\u001b[38;5;124mlr\u001b[39m\u001b[38;5;124m'\u001b[39m]\n\u001b[1;32m      7\u001b[0m \u001b[38;5;28mself\u001b[39m\u001b[38;5;241m.\u001b[39mdiscount \u001b[38;5;241m=\u001b[39m hyper[\u001b[38;5;124m'\u001b[39m\u001b[38;5;124mdiscount\u001b[39m\u001b[38;5;124m'\u001b[39m]\n\u001b[0;32m----> 8\u001b[0m \u001b[38;5;28mself\u001b[39m\u001b[38;5;241m.\u001b[39mseed \u001b[38;5;241m=\u001b[39m hyper[\u001b[38;5;124m'\u001b[39m\u001b[38;5;124mseed\u001b[39m\u001b[38;5;124m'\u001b[39m]\n\u001b[1;32m      9\u001b[0m \u001b[38;5;28mself\u001b[39m\u001b[38;5;241m.\u001b[39mrand_generator \u001b[38;5;241m=\u001b[39m np\u001b[38;5;241m.\u001b[39mrandom\u001b[38;5;241m.\u001b[39mRandomState(hyper[\u001b[38;5;124m'\u001b[39m\u001b[38;5;124mseed\u001b[39m\u001b[38;5;124m'\u001b[39m])\n\u001b[1;32m     10\u001b[0m \u001b[38;5;28mself\u001b[39m\u001b[38;5;241m.\u001b[39mQ \u001b[38;5;241m=\u001b[39m defaultdict(\u001b[38;5;28;01mlambda\u001b[39;00m: \u001b[38;5;241m0\u001b[39m)\n",
      "\u001b[0;31mKeyError\u001b[0m: 'seed'"
     ]
    }
   ],
   "source": [
    "hyper = {}\n",
    "hyper['N_ACTIONS'] = 2\n",
    "hyper['epsilon'] = 0.5\n",
    "hyper['eps_decay'] = 0.9995\n",
    "hyper['lr'] = 0\n",
    "hyper['discount'] = 0\n",
    "hyper['seed'] = None\n",
    "hyper['rand_generator'] = np.random.RandomState(hyper['seed'])\n",
    "\n",
    "list_lr = [0.4, 0.6, 0.8, 0.9]\n",
    "list_discount = [1.0, 0.95, 0.9, 0.8, 0.7]\n",
    "labels_lr = [\"lr = 0.4\", \"lr = 0.5\",\"lr = 0.6\", \"lr = 0.7\",\"lr = 0.8\", \"lr = 0.9\"]\n",
    "labels_discount = [\"discount = 1.0\", \"discount = 0.95\",\"discount = 0.9\", \"discount = 0.85\",\"discount = 0.8\", \"discount = 0.75\", \"discount = 0.7\"]\n",
    "\n",
    "env = gym.make('TextFlappyBird-v0', height=15, width=20, pipe_gap=2, seed=None)\n",
    "game = QLearningAgent(hyper)\n",
    "n_episodes = 10000\n",
    "\n",
    "train_scores = []\n",
    "\n",
    "for lr in list_lr:\n",
    "    for discount in list_discount:\n",
    "        print(\"-------------------\")\n",
    "        print(f\"Learning rate: {lr}, Discount: {discount}\")\n",
    "        hyper['lr'] = lr\n",
    "        hyper['discount'] = discount\n",
    "        game = QLearningAgent(hyper)\n",
    "        train_score = game.train(env, n_episodes)\n",
    "        window = 1000\n",
    "        average_y = [np.mean(train_score[:window])]*window\n",
    "        for ind in range(len(train_score) - window + 1):\n",
    "            average_y.append(np.mean(train_score[ind:ind+window]))\n",
    "        plt.plot(train_score)\n",
    "        plt.plot(average_y)\n",
    "        plt.xlabel(\"Episodes\")\n",
    "        plt.ylabel(\"Scores\")\n",
    "        plt.title(f\"Learning rate: {lr}, Discount: {discount}\")\n",
    "        plt.show()\n",
    "        _, test_score = game.test(env, 10)\n",
    "        print(\"Game score:\", test_score)"
   ]
  },
  {
   "cell_type": "code",
   "execution_count": null,
   "metadata": {},
   "outputs": [],
   "source": []
  },
  {
   "cell_type": "code",
   "execution_count": 8,
   "metadata": {},
   "outputs": [
    {
     "data": {
      "text/plain": [
       "(0.024874864811808794, 0.009148663151611577, 0.003364763511073312)"
      ]
     },
     "execution_count": 8,
     "metadata": {},
     "output_type": "execute_result"
    },
    {
     "data": {
      "image/png": "[encoded data removed]",
      "text/plain": [
       "<Figure size 640x480 with 1 Axes>"
      ]
     },
     "metadata": {},
     "output_type": "display_data"
    }
   ],
   "source": [
    "e = 0.5\n",
    "ed = 0.9995\n",
    "es = [e]\n",
    "for i in range(10000):\n",
    "    e = max(e*ed, 0.001)\n",
    "    es.append(e)\n",
    "\n",
    "plt.xlabel(\"Episodes\")\n",
    "plt.ylabel(\"Epsilon\")\n",
    "plt.title(\"Epsilon value after each episode\")\n",
    "plt.plot(es)\n",
    "es[6000], es[8000], es[10000]"
   ]
  },
  {
   "cell_type": "code",
   "execution_count": null,
   "metadata": {},
   "outputs": [],
   "source": [
    "hyper = {}\n",
    "hyper['N_ACTIONS'] = 2\n",
    "hyper['epsilon'] = 0.5\n",
    "hyper['eps_decay'] = 0.9995\n",
    "hyper['lr'] = 0 ###\n",
    "hyper['discount'] = 0 ###\n",
    "\n",
    "\n",
    "env = gym.make('TextFlappyBird-v0', height=15, width=20, pipe_gap=2, seed=None)\n",
    "\n",
    "game = QLearningAgent(hyper)\n",
    "train_score = game.train(env, n_episodes)\n",
    "window = 1000\n",
    "average_y = [np.mean(train_score[:window])]*window\n",
    "for ind in range(len(train_score) - window + 1):\n",
    "    average_y.append(np.mean(train_score[ind:ind+window]))\n",
    "plt.plot(train_score)\n",
    "plt.plot(average_y)\n",
    "plt.xlabel(\"Episodes\")\n",
    "plt.ylabel(\"Scores\")\n",
    "plt.title(f\"Q_Learning Algorithm: Train\")\n",
    "plt.show()\n",
    "test_score, _ = game.test(env, 100)\n",
    "window = 10\n",
    "average_test_y = [np.mean(test_score[:window])]*window\n",
    "for ind in range(len(test_score) - window + 1):\n",
    "    average_test_y.append(np.mean(test_score[ind:ind+window]))\n",
    "plt.plot(test_score)\n",
    "plt.plot(average_test_y)\n",
    "plt.xlabel(\"Episodes\")\n",
    "plt.ylabel(\"Scores\")\n",
    "plt.title(f\"Q_Learning Algorithm: Test\")"
   ]
  },
  {
   "cell_type": "code",
   "execution_count": null,
   "metadata": {},
   "outputs": [],
   "source": [
    "# Convert dict Q to np array Q_ to save value in .csv file\n",
    "def convert_Q(Q):\n",
    "    Q_ = []\n",
    "    for state in Q.keys():\n",
    "        a = state[0][0]\n",
    "        b = state[0][1]\n",
    "        c = state[1]\n",
    "        Q_.append([a,b,c,Q[((a,b),c)]])\n",
    "    \n",
    "    return np.array(Q_)\n",
    "\n",
    "# Convert list Q_ from .csv file to dict Q\n",
    "def convert_Q_(Q_):\n",
    "    Q = defaultdict(lambda: 0)\n",
    "    for row in Q_:\n",
    "        [a,b,c,d] = row\n",
    "        a,b,c = int(a), int(b), int(c)\n",
    "        Q[((a,b), c)] = d\n",
    "    return Q\n",
    "\n",
    "Q_ = convert_Q(game.Q)\n",
    "np.savetxt(\"Q_Learning_RandomEnv.csv\", Q_, delimiter =\",\")"
   ]
  }
 ],
 "metadata": {
  "kernelspec": {
   "display_name": "base",
   "language": "python",
   "name": "python3"
  },
  "language_info": {
   "codemirror_mode": {
    "name": "ipython",
    "version": 3
   },
   "file_extension": ".py",
   "mimetype": "text/x-python",
   "name": "python",
   "nbconvert_exporter": "python",
   "pygments_lexer": "ipython3",
   "version": "3.12.4"
  }
 },
 "nbformat": 4,
 "nbformat_minor": 2
}
